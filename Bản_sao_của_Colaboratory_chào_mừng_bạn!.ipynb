{
  "cells": [
    {
      "cell_type": "markdown",
      "metadata": {
        "id": "view-in-github",
        "colab_type": "text"
      },
      "source": [
        "<a href=\"https://colab.research.google.com/github/minhhieulo/BaiBuoi3./blob/main/B%E1%BA%A3n_sao_c%E1%BB%A7a_Colaboratory_ch%C3%A0o_m%E1%BB%ABng_b%E1%BA%A1n!.ipynb\" target=\"_parent\"><img src=\"https://colab.research.google.com/assets/colab-badge.svg\" alt=\"Open In Colab\"/></a>"
      ]
    },
    {
      "cell_type": "markdown",
      "metadata": {
        "id": "Wf5KrEb6vrkR"
      },
      "source": [
        "<div class=\"markdown-google-sans\">\n",
        "  <h1>Chào mừng bạn đến với Colab!</h1>\n",
        "</div>\n",
        "\n",
        "<div class=\"markdown-google-sans\">\n",
        "  <h2>&#40;Mới&#41; Dùng thử Gemini API</h2>\n",
        "  <ul>\n",
        "  <li><a href=\"https://makersuite.google.com/app/apikey\">Generate a Gemini API key</a></li>\n",
        "  <li><a href=\"https://colab.research.google.com/github/googlecolab/colabtools/blob/main/notebooks/Talk_to_Gemini_with_Google%27s_Speech_to_Text_API.ipynb?utm_medium=link&utm_campaign=gemini\">Talk to Gemini with the Speech-to-Text API</a></li>\n",
        "  <li><a href=\"https://colab.research.google.com/github/google/generative-ai-docs/blob/main/site/en/tutorials/quickstart_colab.ipynb?utm_medium=link&utm_campaign=gemini\">Gemini API: Quickstart with Python</a></li>\n",
        "  <li><a href=\"https://colab.research.google.com/notebooks/snippets/gemini.ipynb?utm_medium=link&utm_campaign=gemini\">Gemini API code sample</a></li>\n",
        "  <li><a href=\"https://colab.research.google.com/github/googlecolab/colabtools/blob/main/notebooks/Learning_with_Gemini_and_ChatGPT.ipynb?utm_medium=link&utm_campaign=gemini\">Compare Gemini with ChatGPT</a></li>  \n",
        "  <li><a href=\"https://colab.google/notebooks/?utm_medium=link&utm_campaign=gemini\">More notebooks</a></li>\n",
        "  </ul>\n",
        "</div>\n"
      ]
    },
    {
      "cell_type": "code",
      "source": [
        "from collections import deque"
      ],
      "metadata": {
        "id": "bvgwAL2dHtj4"
      },
      "execution_count": null,
      "outputs": []
    },
    {
      "cell_type": "code",
      "source": [
        "def bfs(graph, start):\n",
        "    visited = set()  # Tập hợp các đỉnh đã thăm\n",
        "    queue = deque([start])  # Hàng đợi lưu trữ các đỉnh cần thăm\n",
        "\n",
        "    while queue:\n",
        "        vertex = queue.popleft()\n",
        "        if vertex not in visited:\n",
        "            visited.add(vertex)\n",
        "            print(vertex)  # In ra đỉnh đang xét\n",
        "            for neighbor in graph[vertex]:\n",
        "                queue.append(neighbor)\n",
        "\n",
        "# Đồ thị mẫu\n",
        "graph = {\n",
        "    'S': ['A', 'B', 'C'],\n",
        "    'A': ['D'],\n",
        "    'B': ['E'],\n",
        "    'C': ['F', 'J'],\n",
        "    'D': ['G'],\n",
        "    'E': ['I', 'J'],\n",
        "    'F': ['S'],\n",
        "    'G': ['H'],\n",
        "    'I': [],\n",
        "    'J': [],\n",
        "    'H': ['D']\n",
        "}\n",
        "\n",
        "bfs(graph, 'S')"
      ],
      "metadata": {
        "id": "45LxQfhJHBLM",
        "outputId": "611cf206-93d3-4b68-d772-1222ca3ae1a2",
        "colab": {
          "base_uri": "https://localhost:8080/"
        }
      },
      "execution_count": null,
      "outputs": [
        {
          "output_type": "stream",
          "name": "stdout",
          "text": [
            "S\n",
            "A\n",
            "B\n",
            "C\n",
            "D\n",
            "E\n",
            "F\n",
            "J\n",
            "G\n",
            "I\n",
            "H\n"
          ]
        }
      ]
    },
    {
      "cell_type": "code",
      "source": [
        "\n",
        "\n",
        "def find_path(graph, start, end):\n",
        "    visited = set()  # Tập hợp các đỉnh đã thăm\n",
        "    queue = deque([(start, [start])])  # Hàng đợi lưu trữ (đỉnh, đường đi)\n",
        "\n",
        "    while queue:\n",
        "        vertex, path = queue.popleft()\n",
        "        visited.add(vertex)\n",
        "\n",
        "        if vertex == end:\n",
        "            return path  # Tìm thấy đường đi\n",
        "\n",
        "        for neighbor in graph[vertex]:\n",
        "            if neighbor not in visited:\n",
        "                queue.append((neighbor, path + [neighbor]))\n",
        "\n",
        "    return None  # Không tìm thấy đường đi\n",
        "\n",
        "# Đồ thị đã cho\n",
        "graph = {\n",
        "    'S': ['A', 'B', 'C'],\n",
        "    'A': ['D'],\n",
        "    'B': ['E'],\n",
        "    'C': ['F', 'J'],\n",
        "    'D': ['G'],\n",
        "    'E': ['I', 'J'],\n",
        "    'F': ['S'],\n",
        "    'G': ['H'],\n",
        "    'I': [],\n",
        "    'J': [],\n",
        "    'H': ['D']\n",
        "}\n",
        "\n",
        "# Tìm đường đi từ S đến J\n",
        "path = find_path(graph, 'S', 'J')\n",
        "if path:\n",
        "    print(\"Đường đi từ S đến J:\", path)\n",
        "else:\n",
        "    print(\"Không tìm thấy đường đi\")"
      ],
      "metadata": {
        "id": "litrRAprGIg3",
        "outputId": "c8138590-422d-478c-dc0a-297cf751e467",
        "colab": {
          "base_uri": "https://localhost:8080/"
        }
      },
      "execution_count": null,
      "outputs": [
        {
          "output_type": "stream",
          "name": "stdout",
          "text": [
            "Đường đi từ S đến J: ['S', 'C', 'J']\n"
          ]
        }
      ]
    },
    {
      "cell_type": "code",
      "source": [
        "def dfs_all(graph, start, visited=None):\n",
        "    if visited is None:\n",
        "        visited = set()\n",
        "\n",
        "    visited.add(start)\n",
        "    print(start, end=' ')\n",
        "\n",
        "    for neighbor in graph[start]:\n",
        "        if neighbor not in visited:\n",
        "            dfs_all(graph, neighbor, visited)\n",
        "\n",
        "# Gọi DFS từ đỉnh S\n",
        "print(\"Duyệt tất cả các đỉnh từ S:\")\n",
        "dfs_all(graph, 'S') # Changed G to graph to match your graph variable name\n",
        "print()"
      ],
      "metadata": {
        "id": "MEa3f7ckIl5m",
        "outputId": "1730289b-5ffd-4083-a503-a6ddd4655755",
        "colab": {
          "base_uri": "https://localhost:8080/"
        }
      },
      "execution_count": null,
      "outputs": [
        {
          "output_type": "stream",
          "name": "stdout",
          "text": [
            "Duyệt tất cả các đỉnh từ S:\n",
            "S A D G H B E I J C F \n"
          ]
        }
      ]
    },
    {
      "cell_type": "code",
      "source": [
        "def dfs(graph, start, end, path=[]):\n",
        "    path = path + [start]\n",
        "    if start == end:\n",
        "        return path\n",
        "    for neighbor in graph[start]:\n",
        "        if neighbor not in path:\n",
        "            new_path = dfs(graph, neighbor, end, path)\n",
        "            if new_path:\n",
        "                return new_path\n",
        "    return None # Corrected indentation for return None\n",
        "\n",
        "# Đồ thị mẫu\n",
        "graph = {\n",
        "    'S': ['A', 'B', 'C'],\n",
        "    'A': ['D'],\n",
        "    'B': ['E'],\n",
        "    'C': ['F', 'J'],\n",
        "    'D': ['G'],\n",
        "    'E': ['I', 'J'],\n",
        "    'F': ['S'],\n",
        "    'G': ['H'],\n",
        "    'I': [],\n",
        "    'J': [],\n",
        "    'H': ['D']\n",
        "}\n",
        "\n",
        "# Tìm đường đi từ S đến J\n",
        "path = dfs(graph, 'S', 'J')\n",
        "if path:\n",
        "    print(path)\n",
        "else:\n",
        "    print(\"Không tìm thấy đường đi\")"
      ],
      "metadata": {
        "id": "1_hGajC3IIZ2",
        "outputId": "7cefb03a-e94f-4629-8332-1109a39a1c2d",
        "colab": {
          "base_uri": "https://localhost:8080/"
        }
      },
      "execution_count": null,
      "outputs": [
        {
          "output_type": "stream",
          "name": "stdout",
          "text": [
            "['S', 'B', 'E', 'J']\n"
          ]
        }
      ]
    }
  ],
  "metadata": {
    "colab": {
      "provenance": [],
      "include_colab_link": true
    },
    "kernelspec": {
      "display_name": "Python 3",
      "name": "python3"
    }
  },
  "nbformat": 4,
  "nbformat_minor": 0
}